{
  "nbformat": 4,
  "nbformat_minor": 0,
  "metadata": {
    "colab": {
      "provenance": [],
      "authorship_tag": "ABX9TyMbzJ7sQulzy7EyMvHvAek1",
      "include_colab_link": true
    },
    "kernelspec": {
      "name": "python3",
      "display_name": "Python 3"
    },
    "language_info": {
      "name": "python"
    }
  },
  "cells": [
    {
      "cell_type": "markdown",
      "metadata": {
        "id": "view-in-github",
        "colab_type": "text"
      },
      "source": [
        "<a href=\"https://colab.research.google.com/github/eliekawasfr/Prediction-of-Product-Sales/blob/main/Copy_of_Prediction_of_Product_Sales.ipynb\" target=\"_parent\"><img src=\"https://colab.research.google.com/assets/colab-badge.svg\" alt=\"Open In Colab\"/></a>"
      ]
    },
    {
      "cell_type": "markdown",
      "source": [
        "\n",
        "# **Project Title: (Prediction of Product Sales).**\n",
        "- **Author**: *Elie Kawas*\n"
      ],
      "metadata": {
        "id": "frzSphN1LohX"
      }
    },
    {
      "cell_type": "markdown",
      "source": [
        "\n",
        "## Project Overview\n"
      ],
      "metadata": {
        "id": "sIOkrPycLk19"
      }
    },
    {
      "cell_type": "code",
      "source": [
        "\n",
        "\n"
      ],
      "metadata": {
        "id": "PvlZJNNBroJb"
      },
      "execution_count": null,
      "outputs": []
    },
    {
      "cell_type": "markdown",
      "source": [
        "\n",
        "## Load and Inspect Data"
      ],
      "metadata": {
        "id": "KZtl4OoKrpuE"
      }
    },
    {
      "cell_type": "code",
      "source": [],
      "metadata": {
        "id": "kswvXGvlrquj"
      },
      "execution_count": null,
      "outputs": []
    },
    {
      "cell_type": "markdown",
      "source": [
        "## Clean Data\n"
      ],
      "metadata": {
        "id": "gcba0wB3rq5T"
      }
    },
    {
      "cell_type": "code",
      "source": [],
      "metadata": {
        "id": "DqYzs3PmrrmD"
      },
      "execution_count": null,
      "outputs": []
    },
    {
      "cell_type": "markdown",
      "source": [
        "\n",
        "## Exploratory Data Analysis\n",
        "\n"
      ],
      "metadata": {
        "id": "sI8zNAmJrvPb"
      }
    },
    {
      "cell_type": "code",
      "source": [],
      "metadata": {
        "id": "RKyt-HQ3rxHz"
      },
      "execution_count": null,
      "outputs": []
    },
    {
      "cell_type": "markdown",
      "source": [
        "## Feature Inspection"
      ],
      "metadata": {
        "id": "MbXkGDRirwFb"
      }
    },
    {
      "cell_type": "code",
      "source": [],
      "metadata": {
        "id": "MfLF1wA5r0sr"
      },
      "execution_count": null,
      "outputs": []
    }
  ]
}